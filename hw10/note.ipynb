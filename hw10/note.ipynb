{
 "cells": [
  {
   "cell_type": "code",
   "execution_count": null,
   "metadata": {},
   "outputs": [],
   "source": []
  },
  {
   "cell_type": "markdown",
   "metadata": {},
   "source": [
    "Newton:\n",
    "\n",
    "Input: $\\lambda^{(0)}$, $\\Delta>0$\n",
    "for l = 0,1,2,...\n",
    "    Factor $(B+\\lambda^l I) = R^T R$\n",
    "    Solve $R^TRp_l = -g$\n",
    "        $R^Tq_l = p_l$\n",
    "        $\\lambda^{(l+1)} = \\lambda^{(l)} + (\\frac{||p_l||}{||q_l||})^2(\\frac{||p_l||-\\Delta}{\\Delta})$"
   ]
  }
 ],
 "metadata": {
  "language_info": {
   "name": "python"
  }
 },
 "nbformat": 4,
 "nbformat_minor": 2
}
