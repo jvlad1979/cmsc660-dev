{
 "cells": [
  {
   "cell_type": "code",
   "execution_count": 167,
   "metadata": {},
   "outputs": [
    {
     "name": "stdout",
     "output_type": "stream",
     "text": [
      "False\n"
     ]
    },
    {
     "ename": "ValueError",
     "evalue": "The matrix is not positive definite.",
     "output_type": "error",
     "traceback": [
      "\u001b[0;31m---------------------------------------------------------------------------\u001b[0m",
      "\u001b[0;31mValueError\u001b[0m                                Traceback (most recent call last)",
      "Cell \u001b[0;32mIn[167], line 25\u001b[0m\n\u001b[1;32m     22\u001b[0m A \u001b[38;5;241m=\u001b[39m Ahat \u001b[38;5;241m+\u001b[39m Ahat\u001b[38;5;241m.\u001b[39mT\n\u001b[1;32m     24\u001b[0m \u001b[38;5;28mprint\u001b[39m(check_positive_definite(A))\n\u001b[0;32m---> 25\u001b[0m \u001b[43mcholesky\u001b[49m\u001b[43m(\u001b[49m\u001b[43mA\u001b[49m\u001b[43m)\u001b[49m\n",
      "Cell \u001b[0;32mIn[167], line 10\u001b[0m, in \u001b[0;36mcholesky\u001b[0;34m(A)\u001b[0m\n\u001b[1;32m      8\u001b[0m \u001b[38;5;28;01mif\u001b[39;00m i \u001b[38;5;241m==\u001b[39m j:\n\u001b[1;32m      9\u001b[0m     \u001b[38;5;28;01mif\u001b[39;00m A[i, i] \u001b[38;5;241m-\u001b[39m np\u001b[38;5;241m.\u001b[39msum(L[i, :i] \u001b[38;5;241m*\u001b[39m\u001b[38;5;241m*\u001b[39m \u001b[38;5;241m2\u001b[39m) \u001b[38;5;241m<\u001b[39m\u001b[38;5;241m=\u001b[39m\u001b[38;5;241m0\u001b[39m:\n\u001b[0;32m---> 10\u001b[0m         \u001b[38;5;28;01mraise\u001b[39;00m \u001b[38;5;167;01mValueError\u001b[39;00m(\u001b[38;5;124m'\u001b[39m\u001b[38;5;124mThe matrix is not positive definite.\u001b[39m\u001b[38;5;124m'\u001b[39m)\n\u001b[1;32m     11\u001b[0m     L[i, i] \u001b[38;5;241m=\u001b[39m np\u001b[38;5;241m.\u001b[39msqrt(A[i, i] \u001b[38;5;241m-\u001b[39m np\u001b[38;5;241m.\u001b[39msum(L[i, :i] \u001b[38;5;241m*\u001b[39m\u001b[38;5;241m*\u001b[39m \u001b[38;5;241m2\u001b[39m))\n\u001b[1;32m     12\u001b[0m \u001b[38;5;28;01melse\u001b[39;00m:\n",
      "\u001b[0;31mValueError\u001b[0m: The matrix is not positive definite."
     ]
    }
   ],
   "source": [
    "import numpy as np\n",
    "\n",
    "def cholesky(A):\n",
    "    L = np.zeros_like(A)\n",
    "    n = A.shape[0]\n",
    "    for i in range(n):\n",
    "        for j in range(i + 1):\n",
    "            if i == j:\n",
    "                if A[i, i] - np.sum(L[i, :i] ** 2) <=0:\n",
    "                    raise ValueError('The matrix is not positive definite.')\n",
    "                L[i, i] = np.sqrt(A[i, i] - np.sum(L[i, :i] ** 2))\n",
    "            else:\n",
    "                sum_products = np.sum(L[i, :j] * L[j, :j])\n",
    "                L[i, j] = (A[i, j] - sum_products) / L[j, j]\n",
    "    return L\n",
    "\n",
    "def check_positive_definite(A):\n",
    "    return np.min(np.linalg.eigvals(A))>0\n",
    "\n",
    "Ahat = np.random.rand(100, 100)\n",
    "\n",
    "A = Ahat + Ahat.T\n",
    "\n",
    "print(check_positive_definite(A))\n",
    "cholesky(A)\n",
    "\n"
   ]
  },
  {
   "cell_type": "code",
   "execution_count": 169,
   "metadata": {},
   "outputs": [
    {
     "name": "stdout",
     "output_type": "stream",
     "text": [
      "True\n",
      "0.0002559810499964127\n",
      "3.0524984643866e-12\n"
     ]
    }
   ],
   "source": [
    "A = Ahat.T @ Ahat\n",
    "\n",
    "print(check_positive_definite(A))\n",
    "print('Smallest eigenvalue: ',np.min(np.linalg.eigvals(A)))\n",
    "L = cholesky(A)\n",
    "\n",
    "Lnp = np.linalg.cholesky(A)\n",
    "\n",
    "print('Difference: ',np.linalg.norm(L - Lnp))"
   ]
  }
 ],
 "metadata": {
  "kernelspec": {
   "display_name": ".venv",
   "language": "python",
   "name": "python3"
  },
  "language_info": {
   "codemirror_mode": {
    "name": "ipython",
    "version": 3
   },
   "file_extension": ".py",
   "mimetype": "text/x-python",
   "name": "python",
   "nbconvert_exporter": "python",
   "pygments_lexer": "ipython3",
   "version": "3.11.10"
  }
 },
 "nbformat": 4,
 "nbformat_minor": 2
}
