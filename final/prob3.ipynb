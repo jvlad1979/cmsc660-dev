{
 "cells": [
  {
   "cell_type": "code",
   "execution_count": 101,
   "metadata": {},
   "outputs": [
    {
     "name": "stdout",
     "output_type": "stream",
     "text": [
      "Dimension 5:\n",
      "  Volume using cube method: 0.999575\n",
      "  Volume using ball method: 1.0017516872380352\n",
      "Dimension 10:\n",
      "  Volume using cube method: 0.762701\n",
      "  Volume using ball method: 0.7595561586213077\n",
      "Dimension 15:\n",
      "  Volume using cube method: 0.196806\n",
      "  Volume using ball method: 0.19749912462532065\n",
      "Dimension 20:\n",
      "  Volume using cube method: 0.018145\n",
      "  Volume using ball method: 0.018247665798508086\n"
     ]
    }
   ],
   "source": [
    "import numpy as np\n",
    "from scipy.special import gamma\n",
    "def estimate_volume_cube(d, num_samples=10000):\n",
    "    cube_points = np.random.uniform(-.5,.5,(d,num_samples))\n",
    "    return np.sum(np.sum(cube_points**2,axis=0)<=1)/num_samples\n",
    "\n",
    "def estimate_volume_ball(d, num_samples=10000):\n",
    "    normal_vars = np.random.normal(0, 1, (d,num_samples))\n",
    "    norm = np.linalg.norm(normal_vars,axis=0)\n",
    "    point_on_sphere = normal_vars / norm\n",
    "    radius = np.random.uniform(0, 1,num_samples)**(1/d)\n",
    "    ball_points = radius * point_on_sphere\n",
    "    volume_ball = (np.pi**(d/2)) / ((d/2)*gamma(d/2))\n",
    "    return volume_ball*np.sum(np.max(np.abs(ball_points),axis=0)<=.5)/num_samples\n",
    "\n",
    "dimensions = [5, 10, 15, 20]\n",
    "num_samples = 1000000\n",
    "\n",
    "for d in dimensions:\n",
    "    vol_cube_method = estimate_volume_cube(d, num_samples)\n",
    "    vol_ball_method = estimate_volume_ball(d, num_samples)\n",
    "    print(f\"Dimension {d}:\")\n",
    "    print(f\"  Volume using cube method: {vol_cube_method}\")\n",
    "    print(f\"  Volume using ball method: {vol_ball_method}\")\n"
   ]
  }
 ],
 "metadata": {
  "kernelspec": {
   "display_name": ".venv",
   "language": "python",
   "name": "python3"
  },
  "language_info": {
   "codemirror_mode": {
    "name": "ipython",
    "version": 3
   },
   "file_extension": ".py",
   "mimetype": "text/x-python",
   "name": "python",
   "nbconvert_exporter": "python",
   "pygments_lexer": "ipython3",
   "version": "2.7.18"
  }
 },
 "nbformat": 4,
 "nbformat_minor": 2
}
