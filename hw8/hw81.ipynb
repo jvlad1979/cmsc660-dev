{
 "cells": [
  {
   "cell_type": "code",
   "execution_count": null,
   "metadata": {},
   "outputs": [],
   "source": []
  },
  {
   "cell_type": "markdown",
   "metadata": {},
   "source": [
    "CG\n",
    "Input: $x_0$, $r_0 = Ax_0-b$, $p_0 = -r_0$\n",
    "\n",
    "For k = 0,1,2\n",
    "    $\\alpha_k = -\\frac{r_k^Tp_k}{p_k^TAp_k}$\n",
    "    $x_{k+1} = x_k +\\alpha_k p_k$\n",
    "    $r_{k+1} = r_k +\\alpha_k A p_k$\n",
    "    $\\beta_{k+1} = \\frac{r_{k+1}Ap_k}{p_kAp_k}$\n",
    "    $p_{k+1}= -r_{k+1} + \\beta_{k+1}p_{k}$"
   ]
  },
  {
   "cell_type": "code",
   "execution_count": 1,
   "metadata": {},
   "outputs": [],
   "source": [
    "import numpy as np \n",
    "\n",
    "N = 69\n",
    "\n",
    "x0 = np.zeros(N)\n",
    "b  = np.random.rand(N)\n",
    "\n",
    "A = np.random.rand(N,N)\n",
    "A = A.T@A\n",
    "\n",
    "def conj_grad(A,b,x0):\n",
    "    r0 = A@x0 -b\n",
    "    p0 = -r0 \n",
    "    r = r0 \n",
    "    p = p0\n",
    "    x=x0\n",
    "    eps = 1e-8\n",
    "    while np.linalg.norm(r)>eps:\n",
    "        alpha = -(r.T@p)/(p.T@A@p)\n",
    "        x =x+ alpha*p\n",
    "        r = r+ alpha*A@p \n",
    "        beta = (r.T@A@p)/(p.T@A@p)\n",
    "        p = -r + beta*p\n",
    "    return x\n",
    "\n",
    "x = conj_grad(A,b,x0)\n"
   ]
  },
  {
   "cell_type": "code",
   "execution_count": 3,
   "metadata": {},
   "outputs": [],
   "source": [
    "def cholesky(A):\n",
    "    L = np.zeros_like(A)\n",
    "    n = A.shape[0]\n",
    "    for i in range(n):\n",
    "        for j in range(i + 1):\n",
    "            if i == j:\n",
    "                if A[i, i] - np.sum(L[i, :i] ** 2) <=0:\n",
    "                    raise ValueError('The matrix is not positive definite.')\n",
    "                L[i, i] = np.sqrt(A[i, i] - np.sum(L[i, :i] ** 2))\n",
    "            else:\n",
    "                sum_productsconjugate = np.sum(L[i, :j] * L[j, :j])\n",
    "                L[i, j] = (A[i, j] - sum_products) / L[j, j]\n",
    "    return L\n",
    "\n",
    "\n",
    "# def bsub(L,b):\n",
    "#     n = L.shape[0]\n",
    "#     for i in range(n):\n",
    "\n",
    "\n",
    "\n",
    "def conj_grad_prec(A,b,x0):\n",
    "    r0 = A@x0 -b\n",
    "    C = cholesky(A)\n",
    "    M = C.T@C \n",
    "    y0 = np.linalg.solve(M,r0)\n",
    "\n",
    "    p0 = -y0  \n",
    "    r = r0 \n",
    "    p = p0\n",
    "    x=x0\n",
    "    y=y0 \n",
    "    eps = 1e-8\n",
    "    while np.linalg.norm(r)>eps:\n",
    "        alpha = -(r.T@p)/(p.T@A@p)\n",
    "        x =x+ alpha*p\n",
    "        rold = r\n",
    "        yold = y      \n",
    "        r = r+ alpha*A@p\n",
    "        y = np.linalg.solve(M,r) \n",
    "        beta = (r.T@y)/(rold.T@yold)\n",
    "        p = -y + beta*p\n",
    "    return x\n",
    "# def icholesky(A):\n",
    "#     L = np.zeros_like(A)\n",
    "#     n = A.shape[0]\n",
    "#     for i in range(n):\n",
    "#         for j in range(i + 1):\n",
    "#             if i == j:\n",
    "#                 if A[i, i] - np.sum(L[i, :i] ** 2) <=0:\n",
    "#                     raise ValueError('The matrix is not positive definite.')\n",
    "#                 L[i, i] = np.sqrt(A[i, i] - np.sum(L[i, :i] ** 2))\n",
    "#             else:\n",
    "#                 sum_products = np.sum(L[i, :j] * L[j, :j])\n",
    "#                 L[i, j] = (A[i, j] - sum_products) / L[j, j]\n",
    "#     return L   \n",
    "xp = conj_grad_prec(A,b,x0)"
   ]
  },
  {
   "cell_type": "code",
   "execution_count": 4,
   "metadata": {},
   "outputs": [
    {
     "data": {
      "text/plain": [
       "array([ 1.52997434e+03, -1.50741197e+04, -1.48606227e+04,  8.44144394e+03,\n",
       "        5.64497624e+03, -2.58723026e+04,  1.54673859e+04, -2.15402499e+04,\n",
       "       -1.54086944e+04, -9.23951832e+03,  4.31254181e+02, -1.28705062e+04,\n",
       "        2.26897000e+04,  1.82787029e+04,  3.63083069e+02,  6.43952010e+03,\n",
       "        1.91932482e+04,  5.37326815e+03, -2.01964462e+04,  2.20091661e+04,\n",
       "        8.11054180e+03,  9.71177543e+03,  5.93875281e+03, -4.73725105e+02,\n",
       "       -1.38332971e+04, -4.01532672e+04,  6.66274192e+03,  6.05877397e+02,\n",
       "        2.15986014e+04,  1.60937189e+04,  1.68348400e+04,  3.38195462e+03,\n",
       "       -1.71223529e+04,  1.21922443e+02, -9.63526656e+03,  2.58119163e+03,\n",
       "        2.07650253e+04, -1.68578459e+04,  1.67886326e+04, -5.30279772e+03,\n",
       "        1.30178544e+04,  3.49735752e+03,  3.06036809e+04,  2.23395207e+03,\n",
       "        3.82659617e+03,  5.88441393e+03, -1.17929669e+04, -1.90110897e+04,\n",
       "       -1.33657877e+04, -2.54304587e+04, -3.95929149e+02,  4.18882911e+04,\n",
       "       -9.33037208e+03,  3.66015881e+04,  2.32687485e+04, -1.41576708e+04,\n",
       "       -1.32973172e+04,  1.92321787e+04, -8.74546479e+03,  2.70780330e+03,\n",
       "       -4.08230752e+03, -4.36058089e+03,  1.01142886e+04, -2.54550890e+03,\n",
       "       -3.91696061e+04,  3.92724127e+03,  4.26287396e-01, -2.83182247e+04,\n",
       "       -1.86245623e+04])"
      ]
     },
     "execution_count": 4,
     "metadata": {},
     "output_type": "execute_result"
    }
   ],
   "source": [
    "xp"
   ]
  },
  {
   "cell_type": "code",
   "execution_count": 5,
   "metadata": {},
   "outputs": [
    {
     "data": {
      "text/plain": [
       "array([ 1.52997432e+03, -1.50741196e+04, -1.48606225e+04,  8.44144385e+03,\n",
       "        5.64497618e+03, -2.58723023e+04,  1.54673858e+04, -2.15402497e+04,\n",
       "       -1.54086942e+04, -9.23951822e+03,  4.31254176e+02, -1.28705060e+04,\n",
       "        2.26896998e+04,  1.82787027e+04,  3.63083064e+02,  6.43952003e+03,\n",
       "        1.91932480e+04,  5.37326810e+03, -2.01964460e+04,  2.20091659e+04,\n",
       "        8.11054172e+03,  9.71177532e+03,  5.93875274e+03, -4.73725100e+02,\n",
       "       -1.38332969e+04, -4.01532667e+04,  6.66274185e+03,  6.05877390e+02,\n",
       "        2.15986012e+04,  1.60937187e+04,  1.68348398e+04,  3.38195459e+03,\n",
       "       -1.71223528e+04,  1.21922442e+02, -9.63526646e+03,  2.58119160e+03,\n",
       "        2.07650250e+04, -1.68578457e+04,  1.67886324e+04, -5.30279766e+03,\n",
       "        1.30178543e+04,  3.49735748e+03,  3.06036806e+04,  2.23395205e+03,\n",
       "        3.82659613e+03,  5.88441386e+03, -1.17929667e+04, -1.90110895e+04,\n",
       "       -1.33657875e+04, -2.54304585e+04, -3.95929145e+02,  4.18882906e+04,\n",
       "       -9.33037198e+03,  3.66015878e+04,  2.32687482e+04, -1.41576706e+04,\n",
       "       -1.32973170e+04,  1.92321785e+04, -8.74546470e+03,  2.70780327e+03,\n",
       "       -4.08230748e+03, -4.36058084e+03,  1.01142885e+04, -2.54550887e+03,\n",
       "       -3.91696057e+04,  3.92724123e+03,  4.26288103e-01, -2.83182244e+04,\n",
       "       -1.86245621e+04])"
      ]
     },
     "execution_count": 5,
     "metadata": {},
     "output_type": "execute_result"
    }
   ],
   "source": [
    "np.linalg.solve(A,b)"
   ]
  }
 ],
 "metadata": {
  "kernelspec": {
   "display_name": "Python 3",
   "language": "python",
   "name": "python3"
  },
  "language_info": {
   "codemirror_mode": {
    "name": "ipython",
    "version": 3
   },
   "file_extension": ".py",
   "mimetype": "text/x-python",
   "name": "python",
   "nbconvert_exporter": "python",
   "pygments_lexer": "ipython3",
   "version": "3.11.9"
  }
 },
 "nbformat": 4,
 "nbformat_minor": 2
}
